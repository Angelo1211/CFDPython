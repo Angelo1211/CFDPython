{
 "cells": [
  {
   "cell_type": "markdown",
   "metadata": {},
   "source": [
    "# Step 1: 1D Linear Convection\n",
    "\n",
    "The first step in this journey begins with a simple equation called the 1-D Linear Convection equation. It is the most basic model that we can use to learn something useful about CFD.\n",
    "Here it is:\n",
    "\n",
    "$$ \\frac{\\partial u}{\\partial t} + c \\frac{\\partial u}{\\partial x} = 0 $$\n",
    "\n",
    "This equation can be uderstood as a representation of a *wave* that propagates whatever initial shape it had at a constant speed `c` without changing it. Assuming initial condutions to be $ u(x,0) = u_0(x) $ we can find an exact solution to this equation of the type $ u(x,t) = u_0(x-ct) $. Which represents the behavior of a wave being propagated with no change in shape. \n",
    "\n",
    "But we must discretize the above equation before we can work with it on our computer. To do so we perform a discretization in both space and time using the Forward Difference scheme for the tiem derivative and the backward difference scheme for the spatial derivative. \n",
    "\n",
    "This means that from now on we will consider space to have been discretized into **x** points that we index with i= 0 to **N** and step time in discrete intervals of size $ \\Delta t$.\n",
    "\n",
    "Performing a taylor series approximation with a forward difference in time and eliminating the higher order terms we can obtain a discretization for the time derivative:\n",
    "\n",
    "$$ \\frac{\\partial u}{\\partial t} \\approx \\frac{u_i^{n+1} - u^n_i}{\\Delta t} $$\n",
    "\n",
    "And similarly for the spatial with a backwards difference:\n",
    "\n",
    "$$ \\frac{\\partial u}{\\partial x} \\approx \\frac{u_{i}^{n} - u^n_{i-1}}{\\Delta t} $$\n",
    "\n",
    "Combining and substituting into our equation:\n",
    "\n",
    "$$\\frac{u_i^{n+1} - u^n_i}{\\Delta t} + c \\frac{u_{i}^{n} - u^n_{i-1}}{\\Delta t} = 0$$\n",
    "\n",
    "Our initial condition information will be enough to solve for everything in the above equation except $u_i^{n+1}$ so we can rearrange to solve as such:\n",
    "\n",
    "$$ u_i^{n+1} = u^n_i - c \\frac{\\Delta t}{\\Delta x}(u_i^n - u^n_{i-1}) $$\n",
    "\n",
    "Now that we have fully defined the equation, discretized it and found an expression that we can easily solve for we are going to implement it in python. \n",
    "\n",
    "### Libraries"
   ]
  },
  {
   "cell_type": "code",
   "execution_count": 5,
   "metadata": {},
   "outputs": [],
   "source": [
    "# Adding inline command to make plots appear under comments\n",
    "import numpy as np\n",
    "import matplotlib.pyplot as plt\n",
    "import time, sys\n",
    "%matplotlib inline      "
   ]
  },
  {
   "cell_type": "markdown",
   "metadata": {},
   "source": [
    "### Key Variables\n",
    "\n",
    "Before beginning to calculate we must first define the grid of points that will characterize our spatial domain. We begin by giving it a `grid_length` parameter that defines the length of our spatial domain. Next, `grid_points` will define the number of points in the grid and `dx` will be the resulting distance between any pair of adjacent grid points. `nt` will represent the number of timesteps we want to calculate and `dt` represents the amount of time each timestep will cover. Finally `c` will represent the wave speed of our system. "
   ]
  },
  {
   "cell_type": "code",
   "execution_count": 8,
   "metadata": {},
   "outputs": [],
   "source": [
    "grid_length = 2\n",
    "grid_points = 41\n",
    "dx = grid_length / (grid_points - 1) \n",
    "nt = 25\n",
    "dt = 0.025\n",
    "c = 1"
   ]
  },
  {
   "cell_type": "markdown",
   "metadata": {},
   "source": [
    "### Initial Conditions\n",
    "\n",
    "Next we set up our initial conditions for the wave. $ u = 1 $ everywhere except:\n",
    "\n",
    "$$ u = 2 \\Rightarrow 0.5 <= x <= 1 $$"
   ]
  },
  {
   "cell_type": "code",
   "execution_count": 10,
   "metadata": {},
   "outputs": [
    {
     "name": "stdout",
     "output_type": "stream",
     "text": [
      "[1. 1. 1. 1. 1. 1. 1. 1. 1. 1. 2. 2. 2. 2. 2. 2. 2. 2. 2. 2. 2. 1. 1. 1.\n",
      " 1. 1. 1. 1. 1. 1. 1. 1. 1. 1. 1. 1. 1. 1. 1. 1. 1.]\n"
     ]
    }
   ],
   "source": [
    "u = np.ones(grid_points)\n",
    "u[int(.5/ dx):int(1 / dx + 1)] = 2\n",
    "print(u)"
   ]
  },
  {
   "cell_type": "markdown",
   "metadata": {},
   "source": [
    "### Plotting initial conditions\n",
    "\n"
   ]
  },
  {
   "cell_type": "code",
   "execution_count": 12,
   "metadata": {},
   "outputs": [
    {
     "data": {
      "image/png": "[encoded data removed]",
      "text/plain": [
       "<Figure size 432x288 with 1 Axes>"
      ]
     },
     "metadata": {},
     "output_type": "display_data"
    }
   ],
   "source": [
    "plt.plot(np.linspace(0,2,grid_points), u);"
   ]
  },
  {
   "cell_type": "markdown",
   "metadata": {},
   "source": [
    "## Applying the discretization\n",
    "\n",
    "For every element of the array `u` we must apply the equation $ u_i^{n+1} = u^n_i - c \\frac{\\Delta t}{\\Delta x}(u_i^n - u^n_{i-1}) $ and store the results in a new temporary array called `new_u` which will become the solution for the next time step. We will repeat this operation for every time step and see how far the wave has moved.\n",
    "\n"
   ]
  },
  {
   "cell_type": "code",
   "execution_count": 14,
   "metadata": {},
   "outputs": [],
   "source": [
    "un = np.ones(grid_points)\n",
    "\n",
    "for n in range(nt): #Runs however many timesteps you set earlier\n",
    "    un = u.copy()   #copy the u array to not overwrite values\n",
    "    for i in range(1,grid_points):\n",
    "        u[i] = un[i] - c * dt/dx * (un[i]-un[i-1]) "
   ]
  },
  {
   "cell_type": "code",
   "execution_count": 15,
   "metadata": {},
   "outputs": [
    {
     "data": {
      "image/png": "[encoded data removed]",
      "text/plain": [
       "<Figure size 432x288 with 1 Axes>"
      ]
     },
     "metadata": {},
     "output_type": "display_data"
    }
   ],
   "source": [
    "plt.plot(np.linspace(0,2,grid_points), u);"
   ]
  },
  {
   "cell_type": "code",
   "execution_count": null,
   "metadata": {},
   "outputs": [],
   "source": []
  }
 ],
 "metadata": {
  "kernelspec": {
   "display_name": "Python 3",
   "language": "python",
   "name": "python3"
  },
  "language_info": {
   "codemirror_mode": {
    "name": "ipython",
    "version": 3
   },
   "file_extension": ".py",
   "mimetype": "text/x-python",
   "name": "python",
   "nbconvert_exporter": "python",
   "pygments_lexer": "ipython3",
   "version": "3.6.5"
  }
 },
 "nbformat": 4,
 "nbformat_minor": 2
}
